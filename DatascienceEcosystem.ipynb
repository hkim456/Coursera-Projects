{
 "cells": [
  {
   "cell_type": "markdown",
   "id": "d59b5a79",
   "metadata": {},
   "source": [
    "# Data Science Tools and Ecosystem"
   ]
  },
  {
   "cell_type": "markdown",
   "id": "6a76649c",
   "metadata": {},
   "source": [
    "\"In this notebook, We will provide a summary of Data Science tools and Ecosystem\"\n"
   ]
  },
  {
   "cell_type": "markdown",
   "id": "ace7ba62",
   "metadata": {},
   "source": [
    "**Objectives:**\n",
    "\n",
    "-Popular languages in Data Science\n",
    "-Commonly used libraries by Data scientists\n",
    "-Data Science Tools\n",
    "-Simple Arithmetic Expression\n",
    "-Converting hours to minutes"
   ]
  },
  {
   "cell_type": "markdown",
   "id": "2f3e6126",
   "metadata": {},
   "source": [
    "Some of the popular languages that Data Scientists use are:\n",
    "1. Python\n",
    "2. SQL\n",
    "3. R\n",
    "4. Java\n",
    "5. C/C++"
   ]
  },
  {
   "cell_type": "markdown",
   "id": "d266308d",
   "metadata": {},
   "source": [
    "Some of the commonly used libraries by Data Scientists include:\n",
    "1. Pandas\n",
    "2. Numpy\n",
    "3. SciPy\n",
    "4. Scikit-learn\n",
    "5. TensorFlow\n",
    "6. Keras"
   ]
  },
  {
   "cell_type": "markdown",
   "id": "7a51f9cd",
   "metadata": {},
   "source": [
    "Data Science Tools\n",
    "\n",
    "|    Heading      |\n",
    "|-----------------|\n",
    "| Tableau         |\n",
    "| Apache Spark    |\n",
    "| Python          |\n",
    "| Scikit - learn  |\n",
    "| TensorFlow      |"
   ]
  },
  {
   "cell_type": "markdown",
   "id": "18ed27da",
   "metadata": {},
   "source": [
    "### Below are a few examples of evaluating arithmetic expressions in Python\n",
    "\n",
    "total_price = item_price*(1+tax_rate/100)\n",
    "2 ** 3\n",
    "25//4\n",
    "199 % 200\n",
    "6.4 % 3.1"
   ]
  },
  {
   "cell_type": "code",
   "execution_count": 3,
   "id": "b8a1b7eb",
   "metadata": {},
   "outputs": [
    {
     "data": {
      "text/plain": [
       "17"
      ]
     },
     "execution_count": 3,
     "metadata": {},
     "output_type": "execute_result"
    }
   ],
   "source": [
    "#This a simple arithmetic expression to mutiply then add integers\n",
    "\n",
    "(3*4)+5"
   ]
  },
  {
   "cell_type": "code",
   "execution_count": 5,
   "id": "b00e52ba",
   "metadata": {},
   "outputs": [
    {
     "name": "stdout",
     "output_type": "stream",
     "text": [
      "3:20\n"
     ]
    }
   ],
   "source": [
    "#This will convert 200 minutes to hours by diving by 60\n",
    "\n",
    "total_minutes = 200\n",
    "\n",
    "hours = total_minutes // 60\n",
    "minutes = total_minutes % 60\n",
    "\n",
    "time = \"{}:{}\".format(hours, minutes)\n",
    "\n",
    "print(time)\n"
   ]
  },
  {
   "cell_type": "markdown",
   "id": "6bcc2fc9",
   "metadata": {},
   "source": [
    "## Author\n",
    "\n",
    "Hyunseok Kim"
   ]
  },
  {
   "cell_type": "code",
   "execution_count": null,
   "id": "f44add2d",
   "metadata": {},
   "outputs": [],
   "source": []
  }
 ],
 "metadata": {
  "kernelspec": {
   "display_name": "testenv",
   "language": "python",
   "name": "testenv"
  },
  "language_info": {
   "codemirror_mode": {
    "name": "ipython",
    "version": 3
   },
   "file_extension": ".py",
   "mimetype": "text/x-python",
   "name": "python",
   "nbconvert_exporter": "python",
   "pygments_lexer": "ipython3",
   "version": "3.10.12"
  }
 },
 "nbformat": 4,
 "nbformat_minor": 5
}
